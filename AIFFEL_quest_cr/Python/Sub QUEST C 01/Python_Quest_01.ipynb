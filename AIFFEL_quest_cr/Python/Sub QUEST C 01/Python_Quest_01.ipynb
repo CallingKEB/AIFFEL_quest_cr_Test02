{
  "nbformat": 4,
  "nbformat_minor": 0,
  "metadata": {
    "colab": {
      "provenance": [],
      "authorship_tag": "ABX9TyPrpi51yVM+/BTXwvLjRyes",
      "include_colab_link": true
    },
    "kernelspec": {
      "name": "python3",
      "display_name": "Python 3"
    },
    "language_info": {
      "name": "python"
    }
  },
  "cells": [
    {
      "cell_type": "markdown",
      "metadata": {
        "id": "view-in-github",
        "colab_type": "text"
      },
      "source": [
        "<a href=\"https://colab.research.google.com/github/chanxxw/AIFFEL_quest_cr/blob/master/AIFFEL_quest_cr/Python/Sub%20QUEST%20C%2001/Python_Quest_01.ipynb\" target=\"_parent\"><img src=\"https://colab.research.google.com/assets/colab-badge.svg\" alt=\"Open In Colab\"/></a>"
      ]
    },
    {
      "cell_type": "code",
      "execution_count": 1,
      "metadata": {
        "colab": {
          "base_uri": "https://localhost:8080/"
        },
        "id": "n8J02RZ3ncbf",
        "outputId": "8cc5f61e-648f-4538-e221-3b29b0303df1"
      },
      "outputs": [
        {
          "output_type": "stream",
          "name": "stdout",
          "text": [
            "Hello world!\n"
          ]
        }
      ],
      "source": [
        "print('Hello world!')"
      ]
    },
    {
      "cell_type": "markdown",
      "source": [
        "# 제목"
      ],
      "metadata": {
        "id": "j7vCTJC_n0QU"
      }
    },
    {
      "cell_type": "code",
      "source": [],
      "metadata": {
        "id": "t_O1vYPznneU"
      },
      "execution_count": null,
      "outputs": []
    },
    {
      "cell_type": "markdown",
      "source": [],
      "metadata": {
        "id": "WRhQRVkanwPA"
      }
    }
  ]
}