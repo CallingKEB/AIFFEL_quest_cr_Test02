{
 "cells": [
  {
   "cell_type": "markdown",
   "metadata": {
    "colab_type": "text",
    "id": "view-in-github"
   },
   "source": [
    "<a href=\"https://colab.research.google.com/github/chanxxw/AIFFEL_quest_cr/blob/master/AIFFEL_quest_cr/Python/Sub%20QUEST%20C%2002/PyQuest02.ipynb\" target=\"_parent\"><img src=\"https://colab.research.google.com/assets/colab-badge.svg\" alt=\"Open In Colab\"/></a>"
   ]
  },
  {
   "cell_type": "code",
   "execution_count": null,
   "metadata": {
    "id": "QvkNg5kOQlC2"
   },
   "outputs": [],
   "source": [
    "안진덕\n",
    "김우찬: re 모듈, defaultdict 함수 등 전반적인 함수 사용을 할 줄 알아야 할 것 같고, 이해도 필요해보임. 솔직하게 말해서 30%정도 이해하였습니다. 회고 후 다시한번 만들어보는 과정이 필요해보입니다."
   ]
  },
  {
   "cell_type": "code",
   "execution_count": null,
   "metadata": {
    "id": "CU7RMagQfe2R"
   },
   "outputs": [],
   "source": [
    "import re\n",
    "from collections import defaultdict\n",
    "\n",
    "\n",
    "\n",
    "\n",
    "# 1. 파일 경로 설정 (Google 드라이브 내의 경로를 사용)\n",
    "file_path = '/content/Avengers.txt'  # 파일 경로를 설정하세요\n",
    "\n",
    "# 2. 파일 읽기\n",
    "with open(file_path, 'r') as file:\n",
    "    text_content = file.read()\n",
    "\n",
    "# 3. 모든 문자를 소문자로 변환\n",
    "text_content = text_content.lower()\n",
    "\n",
    "# 4. 모든 기호 제거 (정규표현식 사용)\n",
    "text_content = re.sub(r'[^\\w\\s]', '', text_content)  # 공백은 유지하고, 알파벳과 숫자만 남깁니다.\n",
    "\n",
    "# 5. 단어 단위로 분리\n",
    "words = text_content.split()  # 공백을 기준으로 분리\n",
    "\n",
    "# 6. 각 단어별 빈도수를 딕셔너리 형태로 저장\n",
    "word_freq = defaultdict(int)\n",
    "for word in words:\n",
    "    word_freq[word] += 1\n",
    "\n",
    "# 7. 딕셔너리를 빈도수순으로 내림차순으로 정렬하고 정수 인덱스 부여\n",
    "sorted_word_freq = sorted(word_freq.items(), key=lambda item: item[1], reverse=True)\n",
    "indexed_word_freq = {word: index for index, (word, freq) in enumerate(sorted_word_freq, start=1)}\n",
    "\n",
    "#상위 10개 단어 출\n",
    "print(\"Top 10 words by frequency:\")\n",
    "for word, index in list(indexed_word_freq.items())[:10]:\n",
    "    print(f\"{index}: {word}\")\n",
    "\n",
    "\n",
    "# 8. input()으로 텍스트를 입력받아서 정수 인덱스를 반환하는 함수\n",
    "def text_to_index():\n",
    "    user_input = input(\"Enter some text: \")\n",
    "    user_input = user_input.lower()\n",
    "    user_input = re.sub(r'[^\\w\\s]', '', user_input)\n",
    "    words = user_input.split()\n",
    "\n",
    "    # 입력된 단어들을 인덱스로 변환\n",
    "    indices = [indexed_word_freq.get(word, 0) for word in words]  # 해당 단어가 없으면 0 반환\n",
    "    return indices\n",
    "\n",
    "# 함수 실행 예시\n",
    "indices_result = text_to_index()\n",
    "print(f\"The indices of the words in the input text are: {indices_result}\")"
   ]
  },
  {
   "cell_type": "code",
   "execution_count": null,
   "metadata": {
    "colab": {
     "base_uri": "https://localhost:8080/"
    },
    "id": "dVZ-OgYUm2-F",
    "outputId": "5ce09cec-33fa-4fe5-c3c1-e598db831da5"
   },
   "outputs": [
    {
     "metadata": {
      "tags": null
     },
     "name": "stdout",
     "output_type": "stream",
     "text": [
      "{'the': 365, 'tesseract': 32, 'has': 19, 'awakened': 1, 'it': 111, 'is': 124, 'on': 96, 'a': 224, 'neutral': 1, 'world': 20, 'human': 3, 'they': 37, 'wield': 2, 'its': 70, 'power': 16, 'but': 40, 'our': 20, 'ally': 1, 'knows': 8, 'working': 6, 'so': 32, 'that': 123, 'never': 10, 'will': 32, 'learn': 1, 'hes': 32, 'ready': 5, 'to': 224, 'lead': 4, 'and': 117, 'force': 6, 'chitauri': 4, 'follow': 2, 'be': 63, 'his': 33, 'universe': 2, 'yours': 2, 'humans': 4, 'what': 77, 'can': 37, 'do': 53, 'burn': 1, 'how': 33, 'bad': 3, 'thats': 26, 'problem': 2, 'sir': 25, 'we': 116, 'dont': 43, 'know': 59, 'dr': 11, 'selvig': 8, 'read': 3, 'an': 35, 'energy': 13, 'surge': 1, 'from': 27, 'four': 2, 'hour': 2, 'ago': 1, 'nasa': 1, 'didnt': 26, 'authorize': 1, 'pull': 5, 'test': 3, 'phase': 7, 'he': 78, 'wasnt': 3, 'testing': 1, 'even': 10, 'in': 96, 'room': 3, 'spontaneous': 1, 'advancement': 1, 'just': 36, 'turned': 1, 'itself': 4, 'are': 57, 'engine': 10, 'levels': 3, 'now': 32, 'climbing': 1, 'when': 17, 'couldnt': 3, 'shut': 8, 'down': 29, 'ordered': 1, 'evac': 2, 'long': 8, 'get': 41, 'everyone': 4, 'out': 53, 'campus': 1, 'should': 21, 'clear': 4, 'next': 6, 'half': 2, 'better': 7, 'evacuation': 1, 'maybe': 7}\n",
      "Top 10 words by frequency:\n",
      "1: you\n",
      "2: the\n",
      "3: i\n",
      "4: a\n",
      "5: to\n",
      "6: of\n",
      "7: is\n",
      "8: that\n",
      "9: and\n",
      "10: we\n"
     ]
    }
   ],
   "source": [
    "import re\n",
    "from collections import defaultdict\n",
    "\n",
    "\n",
    "file_path = './Avengers.txt'\n",
    "\n",
    "# 3. 파일 읽기\n",
    "with open(file_path, 'r') as file:\n",
    "    text_content = file.read()\n",
    "\n",
    "# 4. 모든 문자를 소문자로 변환\n",
    "text_content = text_content.lower()\n",
    "\n",
    "# 5. 모든 기호 제거 (정규표현식 사용)\n",
    "text_content = re.sub(r'[^\\w\\s]', '', text_content)  # 공백은 유지하고, 알파벳과 숫자만 남깁니다.\n",
    "\n",
    "# 6. 단어 단위로 분리\n",
    "words = text_content.split()  # 공백을 기준으로 분리\n",
    "\n",
    "# 7. 각 단어별 빈도수를 딕셔너리 형태로 저장\n",
    "word_freq = defaultdict(int)\n",
    "for word in words:\n",
    "    word_freq[word] += 1\n",
    "\n",
    "print(dict(list(word_freq.items())[:100]))\n",
    "\n",
    "# 8. 딕셔너리를 빈도수순으로 내림차순으로 정렬하고 정수 인덱스 부여\n",
    "sorted_word_freq = sorted(word_freq.items(), key=lambda item: item[1], reverse=True)\n",
    "indexed_word_freq = {word: index for index, (word, freq) in enumerate(sorted_word_freq, start=1)}\n",
    "\n",
    "# 상위 10개의 단어와 빈도수 출력\n",
    "print(\"Top 10 words by frequency:\")\n",
    "for word, index in list(indexed_word_freq.items())[:10]:\n",
    "    print(f\"{index}: {word}\")\n",
    "\n",
    "# 9. input()으로 텍스트를 입력받아서 정수 인덱스를 반환하는 함수\n",
    "def text_to_index():\n",
    "    user_input = input(\"Enter some text: \")\n",
    "    user_input = user_input.lower()\n",
    "    user_input = re.sub(r'[^\\w\\s]', '', user_input)\n",
    "    words = user_input.split()\n",
    "\n",
    "    # 입력된 단어들을 인덱스로 변환\n",
    "    indices = [indexed_word_freq.get(word, 0) for word in words]  # 해당 단어가 없으면 0 반환\n",
    "    return indices\n",
    "\n",
    "# 함수 실행 예시\n",
    "indices_result = text_to_index()\n",
    "print(f\"avengers안에 없는 단어는 0으로 나옵니다. 결과는: {indices_result}\")"
   ]
  }
 ],
 "metadata": {
  "colab": {
   "include_colab_link": true,
   "provenance": []
  },
  "kernelspec": {
   "display_name": "Python 3 (ipykernel)",
   "language": "python",
   "name": "python3"
  },
  "language_info": {
   "codemirror_mode": {
    "name": "ipython",
    "version": 3
   },
   "file_extension": ".py",
   "mimetype": "text/x-python",
   "name": "python",
   "nbconvert_exporter": "python",
   "pygments_lexer": "ipython3",
   "version": "3.9.7"
  }
 },
 "nbformat": 4,
 "nbformat_minor": 1
}
