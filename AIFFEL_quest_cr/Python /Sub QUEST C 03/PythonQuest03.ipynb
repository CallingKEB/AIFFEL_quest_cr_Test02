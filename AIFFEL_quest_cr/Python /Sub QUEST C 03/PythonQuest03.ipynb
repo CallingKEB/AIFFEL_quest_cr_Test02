{
  "nbformat": 4,
  "nbformat_minor": 0,
  "metadata": {
    "colab": {
      "provenance": [],
      "include_colab_link": true
    },
    "kernelspec": {
      "name": "python3",
      "display_name": "Python 3"
    },
    "language_info": {
      "name": "python"
    }
  },
  "cells": [
    {
      "cell_type": "markdown",
      "metadata": {
        "id": "view-in-github",
        "colab_type": "text"
      },
      "source": [
        "<a href=\"https://colab.research.google.com/github/chanxxw/AIFFEL_quest_cr/blob/master/AIFFEL_quest_cr/Python%20/Sub%20QUEST%20C%2003/PythonQuest03.ipynb\" target=\"_parent\"><img src=\"https://colab.research.google.com/assets/colab-badge.svg\" alt=\"Open In Colab\"/></a>"
      ]
    },
    {
      "cell_type": "markdown",
      "source": [
        "# [파이썬] 퀘스트: 클로저를 활용한 문제해결하기\n",
        "\n",
        "난이도: ★★★★☆  \n",
        "장르: nonlocal, 클로저, 데코레이터 활용  \n",
        "\n",
        "---\n",
        "\n",
        "\n"
      ],
      "metadata": {
        "id": "sPRcyZsPorCm"
      }
    },
    {
      "cell_type": "markdown",
      "source": [
        "## 문제 1. 최댓값과 최솟값 찾기\n",
        "\n"
      ],
      "metadata": {
        "id": "Dh2vcnApr4VI"
      }
    },
    {
      "cell_type": "markdown",
      "source": [
        "조건:  \n",
        "* 주어진 리스트의 최댓값과 최솟값을 반환하는 클로저 함수를 완성해 주세요.\n",
        "    * 주어진 숫자 리스트 numbers에 대해 find_min_max 함수를 호출하면 find_min과 find_max 함수를 얻을 수 있습니다.\n",
        "    * find_min() 함수를 호출하면 최솟값을, find_max()함수를 호출하면 최댓값을 반환합니다.\n",
        "    * 클로저를 사용하여 min_value와 max_value 변수를 외부에 노출하지 않고도 최솟값과 최대값을 찾을 수 있습니다.\n",
        "    * find_min_max 함수가 호출된 이후에도 find_min과 find_max 함수를 통해 min_value와 max_value 변수에 접근할 수 있습니다.\n",
        "* 주석으로 구현 내용이 써있는 부분을 코드로 채워주세요.\n",
        "---\n",
        "입력:\n",
        "```python\n",
        "numbers = [10, 5, 8, 12, 3, 7]\n",
        "find_min, find_max = find_min_max(numbers)\n",
        "\n",
        "print(\"최솟값:\", find_min())  \n",
        "print(\"최댓값:\", find_max())  \n",
        "```\n",
        "---\n",
        "출력:\n",
        "```\n",
        "3\n",
        "12\n",
        "```\n"
      ],
      "metadata": {
        "id": "d-vXJztpvFD-"
      }
    },
    {
      "cell_type": "code",
      "source": [
        "numbers = [10, 5, 8, 12, 3, 7]\n",
        "find_min, find_max = find_min_max(numbers)\n",
        "\n",
        "def find_min_max(numbers):\n",
        "    # min_value와 max_value 변수를 초기화 OO\n",
        "    min_value = float('inf')    # min_value는 양의 무한대(float('inf'))로 초기화하여 어떤 숫자보다도 큰 값으로 설정 O\n",
        "    max_value = float('-inf')   # max_value는 음의 무한대(float('-inf'))로 초기화하여 어떤 숫자보다도 작은 값으로 설정 O\n",
        "    def update_min_max(num):\n",
        "        # 외부함수의 변수인 min_value, max_value 참조 O\n",
        "        nonlocal min_value, max_value\n",
        "\n",
        "        # 만약 num 값이 min_value보다 작다면 min_value를 num 값으로 변경 O\n",
        "        if num < min_value:\n",
        "            min_value = num\n",
        "\n",
        "        # 만약 num 값이 max_value보다 크다면 max_value를 num 값으로 변경 O\n",
        "        elif num > max_value :\n",
        "            max_value = num\n",
        "\n",
        "        # ?? num 값이 min, max value와 같으면? - 어떡하죠 - 넣어보고 오류를 찾아보겠습니다 OO\n",
        "        else :\n",
        "            pass\n",
        "    # numbers 리스트의 모든 값을 순환하며 최댓값과 최솟값 업데이트\n",
        "    for num in numbers:\n",
        "        update_min_max(num)\n",
        "\n",
        "    # 최솟값을 반환하는 내부함수\n",
        "    def get_min():\n",
        "      return min_value\n",
        "\n",
        "    # 최댓값을 반환하는 내부함수\n",
        "    def get_max():\n",
        "      return max_value\n",
        "\n",
        "    # 외부함수는 내부함수(get_min()과 get_max())를 반환\n",
        "    return get_min, get_max\n",
        "\n",
        "print(\"최솟값:\", find_min())\n",
        "print(\"최댓값:\", find_max())\n"
      ],
      "metadata": {
        "colab": {
          "base_uri": "https://localhost:8080/"
        },
        "id": "zbp4r5HYnVss",
        "outputId": "aab6d49b-d375-4753-8a26-8f6b4a73cd3f"
      },
      "execution_count": null,
      "outputs": [
        {
          "output_type": "stream",
          "name": "stdout",
          "text": [
            "최솟값: 3\n",
            "최댓값: 12\n"
          ]
        }
      ]
    },
    {
      "cell_type": "markdown",
      "source": [
        "## 문제 2. 함수의 호출 횟수를 세는 데코레이터"
      ],
      "metadata": {
        "id": "d3XECsmXwES5"
      }
    },
    {
      "cell_type": "markdown",
      "source": [
        "지난 시간에 배운 데코레이터를 기억하시나요? 데코레이터도 내부함수를 반환하는 클로저를 활용한 문법입니다. 클로저를 활용하여 함수 호출 횟수를 출력하는 데코레이터를 만들어봅시다.\n",
        "\n",
        "조건:\n",
        "* 함수가 실행될 때 마다 함수 이름과 실행 횟수를 출력하는 데코레이터 `counter` 만들기  \n",
        "\n",
        "힌트:\n",
        "* 데코레이터의 내부 함수(클로저)는 실행횟수를 기억하기 위해 외부 함수의 변수를 참조 해야 합니다\n",
        "* 함수의 이름은 `함수이름.__name__`으로 접근할 수 있습니다.\n",
        "\n",
        "---\n",
        "입력:\n",
        "```python\n",
        "@counter\n",
        "def say_hello():\n",
        "    print(\"Hello Aiffel!\")\n",
        "\n",
        "for i in range(5):\n",
        "    say_hello()\n",
        "```\n",
        "---\n",
        "출력:\n",
        "```\n",
        "Hello Aiffel!\n",
        "say_hello 실행횟수: 1\n",
        "Hello Aiffel!\n",
        "say_hello 실행횟수: 2\n",
        "Hello Aiffel!\n",
        "say_hello 실행횟수: 3\n",
        "Hello Aiffel!\n",
        "say_hello 실행횟수: 4\n",
        "Hello Aiffel!\n",
        "say_hello 실행횟수: 5\n",
        "```"
      ],
      "metadata": {
        "id": "HTdH6DkVvJMF"
      }
    },
    {
      "cell_type": "code",
      "source": [
        "## 방법1\n",
        "\n",
        "def counter(func):                         # counter라는 데코레이터 함수를 정의. 이 함수는 다른 함수를 인자로 받음.\n",
        "    def wrapper(*args, **kwargs):          # wrapper라는 내부 함수를 정의. 이 함수는 가변 인자와 키워드 인자를 모두 받음.\n",
        "        wrapper.count += 1                 # wrapper 함수가 호출될 때마다 count라는 속성의 값을 1씩 증가시킴.\n",
        "        print(f\"{func.__name__} 실행횟수: {wrapper.count}\") # 현재 호출된 함수의 이름과 그 함수의 실행 횟수를 출력.\n",
        "        return func(*args, **kwargs)       # 원래의 함수를 호출하고 그 결과를 반환.\n",
        "\n",
        "    wrapper.count = 0                      # wrapper 함수에 count라는 속성을 추가하고, 초기값을 0으로 설정.\n",
        "    return wrapper                         # 데코레이터 함수가 wrapper 함수를 반환.\n",
        "\n",
        "@counter                                   # say_hello 함수를 counter 데코레이터로 장식. 즉, say_hello 함수가 호출될 때마다 counter의 로직이 먼저 실행됨.\n",
        "def say_hello():\n",
        "    print(\"Hello Aiffel!\")                 # say_hello 함수는 \"Hello Aiffel!\"을 출력.\n",
        "\n",
        "for i in range(5):                         # 5번 반복.\n",
        "    say_hello()                            # say_hello 함수를 호출. 이때 counter 데코레이터의 wrapper 함수가 실행됨.\n",
        "\n"
      ],
      "metadata": {
        "colab": {
          "base_uri": "https://localhost:8080/"
        },
        "id": "Shbzp3qMwLxO",
        "outputId": "58e0dad1-25be-450e-de26-f46bba9fd1de"
      },
      "execution_count": null,
      "outputs": [
        {
          "output_type": "stream",
          "name": "stdout",
          "text": [
            "say_hello 실행횟수: 1\n",
            "Hello Aiffel!\n",
            "say_hello 실행횟수: 2\n",
            "Hello Aiffel!\n",
            "say_hello 실행횟수: 3\n",
            "Hello Aiffel!\n",
            "say_hello 실행횟수: 4\n",
            "Hello Aiffel!\n",
            "say_hello 실행횟수: 5\n",
            "Hello Aiffel!\n"
          ]
        }
      ]
    },
    {
      "cell_type": "code",
      "source": [
        "### 방법2\n",
        "\n",
        "def counter(func):\n",
        "    count = 0                                           # 호출 횟수를 저장하는 변수\n",
        "    def wrapper():                                      # *args, **kwargs\n",
        "        nonlocal count                                  # 외부 함수의 변수를 수정할 수 있도록 지정\n",
        "        func()                                          # 원래 함수를 실행\n",
        "        count += 1                                      # 함수가 호출될 때마다 카운트를 증가\n",
        "        print(f\"{func.__name__} 실행횟수: {count}\")     # 함수 이름과 실행 횟수를 출력\n",
        "    return wrapper                                      # 데코레이터는 래퍼 함수를 반환\n",
        "\n",
        "# 데코레이터\n",
        "@counter\n",
        "def say_hello():\n",
        "    print(\"Hello Aiffel!\")\n",
        "\n",
        "# 데코레이터 테스트\n",
        "for i in range(5):\n",
        "    say_hello()\n"
      ],
      "metadata": {
        "colab": {
          "base_uri": "https://localhost:8080/"
        },
        "id": "BDzh9w4D2YFj",
        "outputId": "29e2019d-721a-4d15-e00a-e5ac6d4348e3"
      },
      "execution_count": null,
      "outputs": [
        {
          "output_type": "stream",
          "name": "stdout",
          "text": [
            "Hello Aiffel!\n",
            "say_hello 실행횟수: 1\n",
            "Hello Aiffel!\n",
            "say_hello 실행횟수: 2\n",
            "Hello Aiffel!\n",
            "say_hello 실행횟수: 3\n",
            "Hello Aiffel!\n",
            "say_hello 실행횟수: 4\n",
            "Hello Aiffel!\n",
            "say_hello 실행횟수: 5\n"
          ]
        }
      ]
    },
    {
      "cell_type": "markdown",
      "source": [
        "고은비 :   \n",
        "- Q1\n",
        "퍼실님이 주석을 달아주셔서, 문제를 조금 더 쉽게 해결할 수 있었던 것 같다.\n",
        "최대값이 주어진 답과 달라서 고민하던 중, if 조건들을 수정하면셔 함께 고민하던 중 pass를 얼떨결에 사용하게 되었는데 제시된 값과 동일한 답을 얻을 수 있었다. ^^''\n",
        "- Q2\n",
        "데코레이터 형식이 아직 헷갈려서 답을 도출하는 데 있어서 어려움이 있었다. 퍼실님이 @를 사용하여 데코레이터를 쓸 때, 삼중함수로 되어있었을 때, () 사용여부에 대해 설명해주셨을 때, 조금 더 살짝 이해가 되는 것 같다.   \n",
        "\n",
        "김우찬 :\n",
        "- Q1에서 if와 else만 사용하였더니 최댓값이 7로 나와서, if, elif, else를 사용하고, else pass를 사용하였더니 원하는 값이 나왔다. pass에 대해 처음 사용해보아 퀘스트 후 다시한번 찾아봐야할 것 같다.\n",
        "- Q2에서 사실, 코랩의 탭기능으로 주석에 있는 설명을 출력을 해줘서 쉽게 끝났다. 데코레이터 @---에 ()를 붙이면 오류가 발생하는 경우가 있고, 떼면 오류가 발생하는 경우가 있었다. 3중함수의 경우 ()를 붙여야 출력이 되었고, 2중함수는 ()를 없애야 출력이 되었음.. *args, **kwargs를 조금 더 이해해야할 듯 하다."
      ],
      "metadata": {
        "id": "wdUyELmVrPa1"
      }
    },
    {
      "cell_type": "code",
      "source": [],
      "metadata": {
        "id": "QYdFtnf-MOCg"
      },
      "execution_count": null,
      "outputs": []
    }
  ]
}